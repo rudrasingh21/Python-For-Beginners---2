{
 "cells": [
  {
   "cell_type": "markdown",
   "metadata": {},
   "source": [
    "# Subclass:-"
   ]
  },
  {
   "cell_type": "markdown",
   "metadata": {},
   "source": [
    "We will create a Developer subclass using Employee Class:-"
   ]
  },
  {
   "cell_type": "code",
   "execution_count": 5,
   "metadata": {},
   "outputs": [
    {
     "name": "stdout",
     "output_type": "stream",
     "text": [
      "<__main__.Employee object at 0x0000023E9E830080>\n",
      "Rudra.Singh@gmail.com\n",
      "<__main__.Developer object at 0x0000023E9E830390>\n",
      "Seema.Singh@gmail.com\n"
     ]
    }
   ],
   "source": [
    "class Employee:\n",
    "    \n",
    "    #Class Variable\n",
    "    \n",
    "    raise_amount = 1.04\n",
    "    \n",
    "    def __init__(self,first,last,pay):\n",
    "        self.fname = first\n",
    "        self.lname = last\n",
    "        self.payment = pay\n",
    "        self.email = first + '.' + last + '@gmail.com'\n",
    "        \n",
    "    def fullname(self):\n",
    "        return '{} {}'.format(self.fname, self.lname)\n",
    "    \n",
    "    def apply_raise(self):\n",
    "        self.payment = int(self.payment * Employee.raise_amount)   #also can be used like self.raise_amount\n",
    "\n",
    "class Developer(Employee):\n",
    "    pass\n",
    "\n",
    "\n",
    "#Using Employee Class\n",
    "emp_1 = Employee('Rudra','Singh',500)\n",
    "\n",
    "#Using Developer Class\n",
    "dev_1 = Developer('Seema','Singh',600)\n",
    "\n",
    "print(emp_1)\n",
    "print(emp_1.email)\n",
    "\n",
    "print(dev_1)\n",
    "print(dev_1.email)\n"
   ]
  },
  {
   "cell_type": "code",
   "execution_count": 6,
   "metadata": {},
   "outputs": [
    {
     "name": "stdout",
     "output_type": "stream",
     "text": [
      "Help on class Developer in module __main__:\n",
      "\n",
      "class Developer(Employee)\n",
      " |  Method resolution order:\n",
      " |      Developer\n",
      " |      Employee\n",
      " |      builtins.object\n",
      " |  \n",
      " |  Methods inherited from Employee:\n",
      " |  \n",
      " |  __init__(self, first, last, pay)\n",
      " |      Initialize self.  See help(type(self)) for accurate signature.\n",
      " |  \n",
      " |  apply_raise(self)\n",
      " |  \n",
      " |  fullname(self)\n",
      " |  \n",
      " |  ----------------------------------------------------------------------\n",
      " |  Data descriptors inherited from Employee:\n",
      " |  \n",
      " |  __dict__\n",
      " |      dictionary for instance variables (if defined)\n",
      " |  \n",
      " |  __weakref__\n",
      " |      list of weak references to the object (if defined)\n",
      " |  \n",
      " |  ----------------------------------------------------------------------\n",
      " |  Data and other attributes inherited from Employee:\n",
      " |  \n",
      " |  raise_amount = 1.04\n",
      "\n",
      "None\n"
     ]
    }
   ],
   "source": [
    "print(help(Developer))"
   ]
  },
  {
   "cell_type": "raw",
   "metadata": {},
   "source": [
    "#Appling raise in developer subclass:-"
   ]
  },
  {
   "cell_type": "code",
   "execution_count": 7,
   "metadata": {},
   "outputs": [
    {
     "name": "stdout",
     "output_type": "stream",
     "text": [
      "600\n",
      "624\n"
     ]
    }
   ],
   "source": [
    "print(dev_1.payment)\n",
    "\n",
    "dev_1.apply_raise()\n",
    "\n",
    "print(dev_1.payment)"
   ]
  },
  {
   "cell_type": "raw",
   "metadata": {},
   "source": [
    "NOTE:- You can see dev_1 instance is using Developer subclass , \n",
    "    and is able to use Employee Class"
   ]
  },
  {
   "cell_type": "raw",
   "metadata": {},
   "source": [
    "#Let's Change Code and use different raise amount for developer sub class:-"
   ]
  },
  {
   "cell_type": "code",
   "execution_count": 19,
   "metadata": {},
   "outputs": [
    {
     "name": "stdout",
     "output_type": "stream",
     "text": [
      "520\n",
      "600\n"
     ]
    }
   ],
   "source": [
    "class Employee:\n",
    "    \n",
    "    #Class Variable\n",
    "    \n",
    "    raise_amount = 1.04    #4 % raise in salary\n",
    "    \n",
    "    def __init__(self,first,last,pay):\n",
    "        self.fname = first\n",
    "        self.lname = last\n",
    "        self.payment = pay\n",
    "        self.email = first + '.' + last + '@gmail.com'\n",
    "        \n",
    "    def fullname(self):\n",
    "        return '{} {}'.format(self.fname, self.lname)\n",
    "    \n",
    "    def apply_raise(self):\n",
    "        self.payment = int(self.payment * Employee.raise_amount)   #also can be used like self.raise_amount\n",
    "\n",
    "class Developer(Employee):\n",
    "    raise_amt = 1.10      \n",
    "\n",
    "\n",
    "#Using Employee Class\n",
    "emp_1 = Employee('Rudra','Singh',500)\n",
    "\n",
    "#Using Developer Class\n",
    "dev_1 = Developer('Seema','Singh',600)\n",
    "\n",
    "emp_1.apply_raise()\n",
    "\n",
    "print(emp_1.payment)      #You can see there is no affect of raise_amount declared in any of employee Instances\n",
    "\n",
    "print(dev_1.payment)\n",
    "\n",
    "\n",
    "'''\n",
    "\n",
    "NOTE:- We can make changes in our sub classes , there will be no impact of there class.\n",
    "\n",
    "'''"
   ]
  },
  {
   "cell_type": "markdown",
   "metadata": {},
   "source": [
    "# Mode Information in Sub Classes , than there Classes:-\n"
   ]
  },
  {
   "cell_type": "raw",
   "metadata": {},
   "source": [
    "Giving Sub Class it's own __init__ method."
   ]
  },
  {
   "cell_type": "code",
   "execution_count": 21,
   "metadata": {},
   "outputs": [
    {
     "name": "stdout",
     "output_type": "stream",
     "text": [
      "Rudra.Singh@gmail.com\n",
      "Python\n"
     ]
    }
   ],
   "source": [
    "class Employee:\n",
    "    \n",
    "    #Class Variable\n",
    "    \n",
    "    raise_amount = 1.04    #4 % raise in salary\n",
    "    \n",
    "    def __init__(self,first,last,pay):\n",
    "        self.fname = first\n",
    "        self.lname = last\n",
    "        self.payment = pay\n",
    "        self.email = first + '.' + last + '@gmail.com'\n",
    "        \n",
    "    def fullname(self):\n",
    "        return '{} {}'.format(self.fname, self.lname)\n",
    "    \n",
    "    def apply_raise(self):\n",
    "        self.payment = int(self.payment * Employee.raise_amount)   #also can be used like self.raise_amount\n",
    "\n",
    "class Developer(Employee):\n",
    "    raise_amt = 1.10      \n",
    "    \n",
    "    def __init__(self, first, last, pay, prog_lang):\n",
    "        super().__init__(first, last, pay)  #this will pass first, last, pay to Employee class and let that class handel this\n",
    "        #or\n",
    "        #Employee.__init__(self,first, last, pay)\n",
    "        self.prog_lang = prog_lang\n",
    "        \n",
    "dev_1 = Developer('Rudra','Singh',500,'Python')\n",
    "\n",
    "dev_2 = Developer('Seema','Singh',600,'Java')\n",
    "\n",
    "print(dev_1.email)\n",
    "\n",
    "print(dev_1.prog_lang)\n",
    "        \n",
    "        \n",
    "        \n",
    "\n"
   ]
  },
  {
   "cell_type": "markdown",
   "metadata": {},
   "source": [
    "# Using More Sub Class:-"
   ]
  },
  {
   "cell_type": "code",
   "execution_count": 27,
   "metadata": {},
   "outputs": [
    {
     "name": "stdout",
     "output_type": "stream",
     "text": [
      "sue.smith@gmail.com\n",
      "--> Rudra Singh\n",
      "--> Seema Singh\n"
     ]
    }
   ],
   "source": [
    "class Employee:\n",
    "    \n",
    "    #Class Variable\n",
    "    \n",
    "    raise_amount = 1.04    #4 % raise in salary\n",
    "    \n",
    "    def __init__(self,first,last,pay):\n",
    "        self.fname = first\n",
    "        self.lname = last\n",
    "        self.payment = pay\n",
    "        self.email = first + '.' + last + '@gmail.com'\n",
    "        \n",
    "    def fullname(self):\n",
    "        return '{} {}'.format(self.fname, self.lname)\n",
    "    \n",
    "    def apply_raise(self):\n",
    "        self.payment = int(self.payment * Employee.raise_amount)   #also can be used like self.raise_amount\n",
    "\n",
    "class Developer(Employee):\n",
    "    raise_amt = 1.10      \n",
    "    \n",
    "    def __init__(self, first, last, pay, prog_lang):\n",
    "        super().__init__(first, last, pay)  #this will pass first, last, pay to Employee class and let that class handel this\n",
    "        #or\n",
    "        #Employee.__init__(self,first, last, pay)\n",
    "        self.prog_lang = prog_lang\n",
    "        \n",
    "class Manager(Employee):\n",
    "        \n",
    "    def __init__(self, first, last, pay, employees=None):\n",
    "        super().__init__(first, last, pay)\n",
    "        if employees is None:\n",
    "            self.employees = []\n",
    "        else:\n",
    "            self.employees = employees\n",
    "            \n",
    "    def add_emp(self,emp):\n",
    "        if emp not in self.employees:\n",
    "            self.employees.append(emp)\n",
    "            \n",
    "    def remove_emp(self,emp):\n",
    "        if emp in self.employees:\n",
    "            self.employees.remove(emp)\n",
    "            \n",
    "    def print_emp(self):\n",
    "        for emp in self.employees:\n",
    "            print('-->', emp.fullname())\n",
    "            \n",
    "dev_1 = Developer('Rudra','Singh',500,'Python')\n",
    "\n",
    "dev_2 = Developer('Seema','Singh',600,'Java')\n",
    "\n",
    "mgr_1 = Manager('sue','smith',9000, [dev_1])\n",
    "\n",
    "print(mgr_1.email)\n",
    "\n",
    "mgr_1.add_emp(dev_2)\n",
    "\n",
    "mgr_1.print_emp()\n"
   ]
  },
  {
   "cell_type": "code",
   "execution_count": 28,
   "metadata": {},
   "outputs": [
    {
     "name": "stdout",
     "output_type": "stream",
     "text": [
      "--> Rudra Singh\n"
     ]
    }
   ],
   "source": [
    "mgr_1.remove_emp(dev_2)\n",
    "\n",
    "mgr_1.print_emp()"
   ]
  },
  {
   "cell_type": "code",
   "execution_count": 29,
   "metadata": {},
   "outputs": [
    {
     "name": "stdout",
     "output_type": "stream",
     "text": [
      "True\n"
     ]
    }
   ],
   "source": [
    "print(isinstance(mgr_1, Manager))\n",
    "\n",
    "# To check if mgr_1 is instance of Manager Class"
   ]
  },
  {
   "cell_type": "code",
   "execution_count": 30,
   "metadata": {},
   "outputs": [
    {
     "name": "stdout",
     "output_type": "stream",
     "text": [
      "True\n"
     ]
    }
   ],
   "source": [
    "print(isinstance(mgr_1, Employee))"
   ]
  },
  {
   "cell_type": "code",
   "execution_count": 31,
   "metadata": {},
   "outputs": [
    {
     "name": "stdout",
     "output_type": "stream",
     "text": [
      "False\n"
     ]
    }
   ],
   "source": [
    "print(isinstance(mgr_1, Developer))"
   ]
  },
  {
   "cell_type": "code",
   "execution_count": null,
   "metadata": {},
   "outputs": [],
   "source": []
  }
 ],
 "metadata": {
  "kernelspec": {
   "display_name": "Python 3",
   "language": "python",
   "name": "python3"
  },
  "language_info": {
   "codemirror_mode": {
    "name": "ipython",
    "version": 3
   },
   "file_extension": ".py",
   "mimetype": "text/x-python",
   "name": "python",
   "nbconvert_exporter": "python",
   "pygments_lexer": "ipython3",
   "version": "3.6.4"
  }
 },
 "nbformat": 4,
 "nbformat_minor": 2
}
