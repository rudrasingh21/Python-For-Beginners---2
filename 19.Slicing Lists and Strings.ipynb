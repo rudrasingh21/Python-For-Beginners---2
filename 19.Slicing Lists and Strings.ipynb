{
 "cells": [
  {
   "cell_type": "code",
   "execution_count": null,
   "metadata": {},
   "outputs": [
    {
     "name": "stdout",
     "output_type": "stream",
     "text": [
      "0\n",
      "9\n"
     ]
    }
   ],
   "source": [
    "my_list = [0,1,2,3,4,5,6,7,8,9]\n",
    "\n",
    "print(my_list[0])\n",
    "print(my_list[-1])"
   ]
  },
  {
   "cell_type": "code",
   "execution_count": 3,
   "metadata": {},
   "outputs": [
    {
     "name": "stdout",
     "output_type": "stream",
     "text": [
      "[0, 1, 2, 3, 4]\n",
      "[3, 4, 5, 6, 7]\n",
      "[3, 4, 5, 6, 7]\n",
      "[1, 2, 3, 4, 5, 6, 7]\n",
      "[0, 1, 2, 3, 4, 5, 6, 7, 8, 9]\n",
      "[0, 2, 4, 6, 8]\n"
     ]
    }
   ],
   "source": [
    "print(my_list[0:5])\n",
    "print(my_list[3:8])\n",
    "\n",
    "print(my_list[-7:-2])\n",
    "print(my_list[1:-2])\n",
    "\n",
    "print(my_list[0:])\n",
    "\n",
    "#list[start:end:step]\n",
    "print(my_list[0:-1:2])"
   ]
  },
  {
   "cell_type": "code",
   "execution_count": 8,
   "metadata": {},
   "outputs": [
    {
     "name": "stdout",
     "output_type": "stream",
     "text": [
      "[9, 8, 7, 6, 5, 4, 3, 2, 1, 0]\n",
      "[8, 7, 6, 5, 4, 3, 2]\n",
      "[8, 6, 4, 2]\n"
     ]
    }
   ],
   "source": [
    "#reverse\n",
    "print(my_list[::-1])\n",
    "\n",
    "print(my_list[-2:1:-1])\n",
    "\n",
    "print(my_list[-2:1:-2])"
   ]
  },
  {
   "cell_type": "code",
   "execution_count": 10,
   "metadata": {},
   "outputs": [
    {
     "name": "stdout",
     "output_type": "stream",
     "text": [
      "https://coryms.com\n"
     ]
    }
   ],
   "source": [
    "sample_url = 'https://coryms.com'\n",
    "\n",
    "print(sample_url)"
   ]
  },
  {
   "cell_type": "code",
   "execution_count": 12,
   "metadata": {},
   "outputs": [
    {
     "name": "stdout",
     "output_type": "stream",
     "text": [
      "moc.smyroc//:sptth\n"
     ]
    }
   ],
   "source": [
    "#Reverse URL\n",
    "print(sample_url[::-1])"
   ]
  },
  {
   "cell_type": "code",
   "execution_count": 13,
   "metadata": {},
   "outputs": [
    {
     "name": "stdout",
     "output_type": "stream",
     "text": [
      ".com\n"
     ]
    }
   ],
   "source": [
    "#get domain\n",
    "print(sample_url[-4:])"
   ]
  },
  {
   "cell_type": "code",
   "execution_count": 14,
   "metadata": {},
   "outputs": [
    {
     "name": "stdout",
     "output_type": "stream",
     "text": [
      "coryms.com\n"
     ]
    }
   ],
   "source": [
    "#print without http://\n",
    "print(sample_url[8:])"
   ]
  }
 ],
 "metadata": {
  "kernelspec": {
   "display_name": "Python 3",
   "language": "python",
   "name": "python3"
  },
  "language_info": {
   "codemirror_mode": {
    "name": "ipython",
    "version": 3
   },
   "file_extension": ".py",
   "mimetype": "text/x-python",
   "name": "python",
   "nbconvert_exporter": "python",
   "pygments_lexer": "ipython3",
   "version": "3.6.4"
  }
 },
 "nbformat": 4,
 "nbformat_minor": 2
}
