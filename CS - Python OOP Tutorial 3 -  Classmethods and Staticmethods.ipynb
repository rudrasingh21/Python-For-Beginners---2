{
 "cells": [
  {
   "cell_type": "markdown",
   "metadata": {},
   "source": [
    "# Regular Methods , Class Methods , Static Methods"
   ]
  },
  {
   "cell_type": "markdown",
   "metadata": {},
   "source": [
    "Regular Method :- In a class , Regular Methods automatically takes Instance as first argument of method.\n",
    "\n",
    "Eg:- \n",
    "\n",
    "    def fullname(self):\n",
    "        return '{} {}'.format(self.fname, self.lname)"
   ]
  },
  {
   "cell_type": "markdown",
   "metadata": {},
   "source": [
    "Class Method:- This takes class as first argument , rather than Instance as first argument.\n",
    "\n",
    "Eg:- \n",
    "\n",
    "    @classmethod\n",
    "    def set_raise_amt(cls, amount):\n",
    "        pass\n",
    "        \n",
    " We pass cls keyword as first argument, which is passing class as first argument."
   ]
  },
  {
   "cell_type": "code",
   "execution_count": 9,
   "metadata": {},
   "outputs": [
    {
     "name": "stdout",
     "output_type": "stream",
     "text": [
      "1.04\n",
      "1.04\n",
      "1.04\n"
     ]
    }
   ],
   "source": [
    "class Employee3:\n",
    "    \n",
    "    #Class Variable\n",
    "    \n",
    "    raise_amount = 1.04\n",
    "    \n",
    "    def __init__(self,first,last,pay):\n",
    "        self.fname = first\n",
    "        self.lname = last\n",
    "        self.payment = pay\n",
    "        self.email = first + '.' + last + '@gmail.com'\n",
    "        \n",
    "    def fullname(self):\n",
    "        return '{} {}'.format(self.fname, self.lname)\n",
    "    \n",
    "    def apply_raise(self):\n",
    "        self.payment = int(self.payment * Employee3.raise_amount)   #also can be used like self.raise_amount\n",
    "'''      \n",
    "\n",
    "#We will use this in next:- \n",
    "\n",
    "    #Class Method:-\n",
    "    \n",
    "    @classmethod\n",
    "    def set_raise_amt(cls, amount):\n",
    "        pass\n",
    "'''   \n",
    "    \n",
    "emp_1 = Employee3('Rudra','Singh',500)\n",
    "emp_2 = Employee3('Seema','Singh',600)\n",
    "\n",
    "print(Employee3.raise_amount)\n",
    "\n",
    "print(emp_1.raise_amount)\n",
    "\n",
    "print(emp_2.raise_amount)\n"
   ]
  },
  {
   "cell_type": "code",
   "execution_count": 7,
   "metadata": {},
   "outputs": [
    {
     "name": "stdout",
     "output_type": "stream",
     "text": [
      "1.05\n",
      "1.05\n",
      "1.05\n"
     ]
    }
   ],
   "source": [
    "#Class method Example:- \n",
    "\n",
    "class Employee3:\n",
    "    \n",
    "    #Class Variable\n",
    "    \n",
    "    raise_amount = 1.04\n",
    "    \n",
    "    def __init__(self,first,last,pay):\n",
    "        self.fname = first\n",
    "        self.lname = last\n",
    "        self.payment = pay\n",
    "        self.email = first + '.' + last + '@gmail.com'\n",
    "        \n",
    "    def fullname(self):\n",
    "        return '{} {}'.format(self.fname, self.lname)\n",
    "    \n",
    "    def apply_raise(self):\n",
    "        self.payment = int(self.payment * Employee3.raise_amount)   #also can be used like self.raise_amount\n",
    "\n",
    "    \n",
    "    #Class Method:-\n",
    "    \n",
    "    @classmethod\n",
    "    def set_raise_amt(cls, amount):\n",
    "        cls.raise_amount = amount\n",
    " \n",
    "    \n",
    "emp_1 = Employee3('Rudra','Singh',500)\n",
    "emp_2 = Employee3('Seema','Singh',600)\n",
    "\n",
    "Employee3.set_raise_amt(1.05)\n",
    "\n",
    "'''\n",
    "We can run class method from Instance as well.\n",
    "\n",
    "emp_1.set_raise.amt(1.05)\n",
    "\n",
    "'''\n",
    "\n",
    "print(Employee3.raise_amount)\n",
    "\n",
    "print(emp_1.raise_amount)\n",
    "\n",
    "print(emp_2.raise_amount)\n"
   ]
  },
  {
   "cell_type": "markdown",
   "metadata": {},
   "source": [
    "# Use Classmethods as alternative Constructor"
   ]
  },
  {
   "cell_type": "markdown",
   "metadata": {},
   "source": [
    "Meaning is we can use class methods in order to provide multiple ways to creating objects"
   ]
  },
  {
   "cell_type": "code",
   "execution_count": 11,
   "metadata": {},
   "outputs": [
    {
     "name": "stdout",
     "output_type": "stream",
     "text": [
      "John.Doe@gmail.com\n",
      "70000\n"
     ]
    }
   ],
   "source": [
    "class Employee3:\n",
    "    \n",
    "    #Class Variable\n",
    "    \n",
    "    raise_amount = 1.04\n",
    "    \n",
    "    def __init__(self,first,last,pay):\n",
    "        self.fname = first\n",
    "        self.lname = last\n",
    "        self.payment = pay\n",
    "        self.email = first + '.' + last + '@gmail.com'\n",
    "        \n",
    "    def fullname(self):\n",
    "        return '{} {}'.format(self.fname, self.lname)\n",
    "    \n",
    "    def apply_raise(self):\n",
    "        self.payment = int(self.payment * Employee3.raise_amount)   #also can be used like self.raise_amount\n",
    "\n",
    "    \n",
    "    #Class Method:-\n",
    "    \n",
    "    @classmethod\n",
    "    def set_raise_amt(cls, amount):\n",
    "        cls.raise_amount = amount\n",
    "\n",
    "# Using String \n",
    "\n",
    "emp_str_1 = 'John-Doe-70000'\n",
    "emp_str_2 = 'Steve-Smith-30000'\n",
    "emp_str_3 = 'Jane-Doe-90000'\n",
    "\n",
    "first, last, pay = emp_str_1.split('-')\n",
    "\n",
    "new_emp_1 = Employee3(first, last, pay)\n",
    "\n",
    "print(new_emp_1.email)\n",
    "print(new_emp_1.payment)"
   ]
  },
  {
   "cell_type": "raw",
   "metadata": {},
   "source": [
    "Now in below we will use classmethod as alternative constructor"
   ]
  },
  {
   "cell_type": "code",
   "execution_count": 14,
   "metadata": {},
   "outputs": [
    {
     "name": "stdout",
     "output_type": "stream",
     "text": [
      "John.Doe@gmail.com\n",
      "70000\n"
     ]
    }
   ],
   "source": [
    "class Employee3:\n",
    "    \n",
    "    #Class Variable\n",
    "    \n",
    "    raise_amount = 1.04\n",
    "    \n",
    "    def __init__(self,first,last,pay):\n",
    "        self.fname = first\n",
    "        self.lname = last\n",
    "        self.payment = pay\n",
    "        self.email = first + '.' + last + '@gmail.com'\n",
    "        \n",
    "    def fullname(self):\n",
    "        return '{} {}'.format(self.fname, self.lname)\n",
    "    \n",
    "    def apply_raise(self):\n",
    "        self.payment = int(self.payment * Employee3.raise_amount)   #also can be used like self.raise_amount\n",
    "\n",
    "    \n",
    "    #Class Method:-\n",
    "    \n",
    "    @classmethod\n",
    "    def set_raise_amt(cls, amount):\n",
    "        cls.raise_amount = amount\n",
    "        \n",
    "    @classmethod\n",
    "    def from_string(cls, emp_str):\n",
    "        first, last, pay = emp_str.split('-')\n",
    "        return cls(first, last, pay)\n",
    "\n",
    "# Using String \n",
    "\n",
    "emp_str_1 = 'John-Doe-70000'\n",
    "emp_str_2 = 'Steve-Smith-30000'\n",
    "emp_str_3 = 'Jane-Doe-90000'\n",
    "\n",
    "new_emp_1 = Employee3.from_string(emp_str_1)\n",
    "\n",
    "print(new_emp_1.email)\n",
    "print(new_emp_1.payment)"
   ]
  },
  {
   "cell_type": "markdown",
   "metadata": {},
   "source": [
    "# Static Method:-"
   ]
  },
  {
   "cell_type": "raw",
   "metadata": {},
   "source": [
    "Remember:- Static methods don't take Instance or Class as first Argument"
   ]
  },
  {
   "cell_type": "raw",
   "metadata": {},
   "source": [
    "If you don't Use Instance or Class anywhere in the Function then use Static Method"
   ]
  },
  {
   "cell_type": "code",
   "execution_count": 16,
   "metadata": {},
   "outputs": [
    {
     "name": "stdout",
     "output_type": "stream",
     "text": [
      "False\n",
      "True\n"
     ]
    }
   ],
   "source": [
    "class Employee3:\n",
    "    \n",
    "    #Class Variable\n",
    "    \n",
    "    raise_amount = 1.04\n",
    "    \n",
    "    def __init__(self,first,last,pay):\n",
    "        self.fname = first\n",
    "        self.lname = last\n",
    "        self.payment = pay\n",
    "        self.email = first + '.' + last + '@gmail.com'\n",
    "        \n",
    "    def fullname(self):\n",
    "        return '{} {}'.format(self.fname, self.lname)\n",
    "    \n",
    "    def apply_raise(self):\n",
    "        self.payment = int(self.payment * Employee3.raise_amount)   #also can be used like self.raise_amount\n",
    "\n",
    "    \n",
    "    #Class Method:-\n",
    "    \n",
    "    @classmethod\n",
    "    def set_raise_amt(cls, amount):\n",
    "        cls.raise_amount = amount\n",
    "        \n",
    "    @classmethod\n",
    "    def from_string(cls, emp_str):\n",
    "        first, last, pay = emp_str.split('-')\n",
    "        return cls(first, last, pay)\n",
    "    \n",
    "#Static Method\n",
    "\n",
    "    @staticmethod\n",
    "    def is_workday(day):    #Static Method , so passing just an argument, not class or Instance\n",
    "        if day.weekday() == 5 or day.weekday() == 6:\n",
    "            return False\n",
    "        return True\n",
    "\n",
    "import datetime\n",
    "my_date = datetime.date(2016,7,10)   #day is Sunday\n",
    "\n",
    "my_date1 = datetime.date(2016,7,11) #day is Monday\n",
    "\n",
    "print(Employee3.is_workday(my_date))\n",
    "\n",
    "print(Employee3.is_workday(my_date1))"
   ]
  },
  {
   "cell_type": "code",
   "execution_count": null,
   "metadata": {},
   "outputs": [],
   "source": []
  }
 ],
 "metadata": {
  "kernelspec": {
   "display_name": "Python 3",
   "language": "python",
   "name": "python3"
  },
  "language_info": {
   "codemirror_mode": {
    "name": "ipython",
    "version": 3
   },
   "file_extension": ".py",
   "mimetype": "text/x-python",
   "name": "python",
   "nbconvert_exporter": "python",
   "pygments_lexer": "ipython3",
   "version": "3.6.4"
  }
 },
 "nbformat": 4,
 "nbformat_minor": 2
}
