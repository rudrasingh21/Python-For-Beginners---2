{
 "cells": [
  {
   "cell_type": "code",
   "execution_count": 20,
   "metadata": {},
   "outputs": [
    {
     "name": "stdout",
     "output_type": "stream",
     "text": [
      "Rudra.Singh@gmail.com\n"
     ]
    }
   ],
   "source": [
    "class Employee:\n",
    "   \n",
    "    def __init__(self,first,last,pay):\n",
    "        self.fname = first\n",
    "        self.lname = last\n",
    "        self.payment = pay\n",
    "        self.email = first + '.' + last + '@gmail.com'\n",
    "        \n",
    "    def fullname(self):\n",
    "        return '{} {}'.format(self.fname, self.lname)\n",
    "    \n",
    "    def apply_raise(self):\n",
    "        self.payment = int(self.payment * Employee.raise_amount)   #also can be used like self.raise_amount\n",
    "\n",
    "    \n",
    "emp_1 = Employee('Rudra','Singh',500)\n",
    "emp_2 = Employee('Seema','Singh',600)\n",
    "\n",
    "print(emp_1.email)"
   ]
  },
  {
   "cell_type": "raw",
   "metadata": {},
   "source": [
    "If we make some changes in class then we would have to change our code everywhere."
   ]
  },
  {
   "cell_type": "code",
   "execution_count": 21,
   "metadata": {},
   "outputs": [
    {
     "name": "stdout",
     "output_type": "stream",
     "text": [
      "Full Name \n",
      "\n",
      "Rudra Singh\n",
      "<bound method Employee.email of <__main__.Employee object at 0x0000020F8E8CC940>>\n",
      "\n",
      "\n",
      "Rudra.Singh.@email.com\n"
     ]
    }
   ],
   "source": [
    "class Employee:\n",
    "   \n",
    "    def __init__(self,first,last,pay):\n",
    "        self.fname = first\n",
    "        self.lname = last\n",
    "        self.payment = pay\n",
    "#        self.email = first + '.' + last + '@gmail.com'\n",
    "        \n",
    "    def email(self):\n",
    "        return '{}.{}.@email.com'.format(self.fname, self.lname)\n",
    "        \n",
    "    def fullname(self):\n",
    "        return '{} {}'.format(self.fname, self.lname)\n",
    "    \n",
    "    def apply_raise(self):\n",
    "        self.payment = int(self.payment * Employee.raise_amount)   #also can be used like self.raise_amount\n",
    "\n",
    "    \n",
    "emp_1 = Employee('Rudra','Singh',500)\n",
    "emp_2 = Employee('Seema','Singh',600)\n",
    "\n",
    "print('Full Name \\n')\n",
    "print(emp_1.fullname())\n",
    "\n",
    "print(emp_1.email)\n",
    "\n",
    "#you can see we did change in email - created a method of email , \n",
    "# Now we are not able to access email as previous.\n",
    "\n",
    "# Now to access email we need to change as below\n",
    "\n",
    "print('\\n')\n",
    "\n",
    "\n",
    "print(emp_1.email())"
   ]
  },
  {
   "cell_type": "raw",
   "metadata": {},
   "source": [
    "To use it without maiking any changes (or like an attribute) \n",
    "we need to use property decorator"
   ]
  },
  {
   "cell_type": "markdown",
   "metadata": {},
   "source": [
    "# @property "
   ]
  },
  {
   "cell_type": "raw",
   "metadata": {},
   "source": [
    "property decorator"
   ]
  },
  {
   "cell_type": "code",
   "execution_count": 22,
   "metadata": {},
   "outputs": [
    {
     "name": "stdout",
     "output_type": "stream",
     "text": [
      "Rudra.Singh.@email.com\n",
      "Rudra Singh\n"
     ]
    }
   ],
   "source": [
    "class Employee:\n",
    "   \n",
    "    def __init__(self,first,last,pay):\n",
    "        self.fname = first\n",
    "        self.lname = last\n",
    "        self.payment = pay\n",
    "#        self.email = first + '.' + last + '@gmail.com'\n",
    "    \n",
    "    @property\n",
    "    def email(self):\n",
    "        return '{}.{}.@email.com'.format(self.fname, self.lname)\n",
    "        \n",
    "    #We can also use property decorator here to use full name as attribute\n",
    "    @property\n",
    "    def fullname(self):\n",
    "        return '{} {}'.format(self.fname, self.lname)\n",
    "    \n",
    "    def apply_raise(self):\n",
    "        self.payment = int(self.payment * Employee.raise_amount)   #also can be used like self.raise_amount\n",
    "\n",
    "    \n",
    "emp_1 = Employee('Rudra','Singh',500)\n",
    "emp_2 = Employee('Seema','Singh',600)\n",
    "\n",
    "print(emp_1.email)\n",
    "\n",
    "print(emp_1.fullname)\n",
    "\n",
    "#NOTE:- Now we can use it without any change in code."
   ]
  },
  {
   "cell_type": "markdown",
   "metadata": {},
   "source": [
    "# Setter"
   ]
  },
  {
   "cell_type": "code",
   "execution_count": 31,
   "metadata": {},
   "outputs": [
    {
     "ename": "AttributeError",
     "evalue": "can't set attribute",
     "output_type": "error",
     "traceback": [
      "\u001b[1;31m---------------------------------------------------------------------------\u001b[0m",
      "\u001b[1;31mAttributeError\u001b[0m                            Traceback (most recent call last)",
      "\u001b[1;32m<ipython-input-31-216695fc3886>\u001b[0m in \u001b[0;36m<module>\u001b[1;34m()\u001b[0m\n\u001b[0;32m     25\u001b[0m \u001b[1;31m#set first name\u001b[0m\u001b[1;33m\u001b[0m\u001b[1;33m\u001b[0m\u001b[0m\n\u001b[0;32m     26\u001b[0m \u001b[1;33m\u001b[0m\u001b[0m\n\u001b[1;32m---> 27\u001b[1;33m \u001b[0memp_1\u001b[0m\u001b[1;33m.\u001b[0m\u001b[0mfullname\u001b[0m \u001b[1;33m=\u001b[0m \u001b[1;34m'saurabh singh'\u001b[0m\u001b[1;33m\u001b[0m\u001b[0m\n\u001b[0m\u001b[0;32m     28\u001b[0m \u001b[1;33m\u001b[0m\u001b[0m\n\u001b[0;32m     29\u001b[0m \u001b[0mprint\u001b[0m\u001b[1;33m(\u001b[0m\u001b[0memp_1\u001b[0m\u001b[1;33m.\u001b[0m\u001b[0memail\u001b[0m\u001b[1;33m)\u001b[0m\u001b[1;33m\u001b[0m\u001b[0m\n",
      "\u001b[1;31mAttributeError\u001b[0m: can't set attribute"
     ]
    }
   ],
   "source": [
    "class Employee:\n",
    "   \n",
    "    def __init__(self,first,last,pay):\n",
    "        self.fname = first\n",
    "        self.lname = last\n",
    "        self.payment = pay\n",
    "#        self.email = first + '.' + last + '@gmail.com'\n",
    "    \n",
    "    @property\n",
    "    def email(self):\n",
    "        return '{}.{}.@email.com'.format(self.fname, self.lname)\n",
    "        \n",
    "    #We can also use property decorator here to use full name as attribute\n",
    "    @property\n",
    "    def fullname(self):\n",
    "        return '{} {}'.format(self.fname, self.lname)\n",
    "    \n",
    "    def apply_raise(self):\n",
    "        self.payment = int(self.payment * Employee.raise_amount)   #also can be used like self.raise_amount\n",
    "\n",
    "    \n",
    "emp_1 = Employee('Rudra','Singh',500)\n",
    "emp_2 = Employee('Seema','Singh',600)\n",
    "\n",
    "#set first name\n",
    "\n",
    "emp_1.fullname = 'saurabh singh'\n",
    "\n",
    "print(emp_1.email)\n",
    "\n",
    "print(emp_1.fullname)"
   ]
  },
  {
   "cell_type": "raw",
   "metadata": {},
   "source": [
    "Using sutter we can fix it"
   ]
  },
  {
   "cell_type": "code",
   "execution_count": 48,
   "metadata": {},
   "outputs": [
    {
     "name": "stdout",
     "output_type": "stream",
     "text": [
      "Rudra Singh\n"
     ]
    }
   ],
   "source": [
    "class Employee3:\n",
    "   \n",
    "    def __init__(self,first,last,pay):\n",
    "        self.fname = first\n",
    "        self.lname = last\n",
    "        self.payment = pay\n",
    "#        self.email = first + '.' + last + '@gmail.com'\n",
    "    \n",
    "    @property\n",
    "    def email(self):\n",
    "        return '{}.{}.@email.com'.format(self.fname, self.lname)\n",
    "        \n",
    "    #We can also use property decorator here to use full name as attribute\n",
    "    @property\n",
    "    def fullname(self):\n",
    "        return '{} {}'.format(self.fname, self.lname)\n",
    "    \n",
    "    @fullname.setter\n",
    "    def fullname(self,name):\n",
    "        first, last = name.split(' ')\n",
    "        self.first = first\n",
    "        self.last = last\n",
    "    \n",
    "    def apply_raise(self):\n",
    "        self.payment = int(self.payment * Employee.raise_amount)   #also can be used like self.raise_amount\n",
    "\n",
    "emp.fullname = 'saurabh singh'\n",
    "\n",
    "print(emp.fullname)"
   ]
  },
  {
   "cell_type": "code",
   "execution_count": null,
   "metadata": {},
   "outputs": [],
   "source": []
  },
  {
   "cell_type": "code",
   "execution_count": null,
   "metadata": {},
   "outputs": [],
   "source": [
    "\n"
   ]
  }
 ],
 "metadata": {
  "kernelspec": {
   "display_name": "Python 3",
   "language": "python",
   "name": "python3"
  },
  "language_info": {
   "codemirror_mode": {
    "name": "ipython",
    "version": 3
   },
   "file_extension": ".py",
   "mimetype": "text/x-python",
   "name": "python",
   "nbconvert_exporter": "python",
   "pygments_lexer": "ipython3",
   "version": "3.6.4"
  }
 },
 "nbformat": 4,
 "nbformat_minor": 2
}
