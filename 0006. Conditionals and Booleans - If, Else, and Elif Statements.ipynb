{
 "cells": [
  {
   "cell_type": "code",
   "execution_count": 1,
   "metadata": {},
   "outputs": [
    {
     "name": "stdout",
     "output_type": "stream",
     "text": [
      "Conditional Was True\n"
     ]
    }
   ],
   "source": [
    "if True:\n",
    "    print('Conditional Was True')"
   ]
  },
  {
   "cell_type": "code",
   "execution_count": 4,
   "metadata": {},
   "outputs": [
    {
     "name": "stdout",
     "output_type": "stream",
     "text": [
      "Conditional Was True\n"
     ]
    }
   ],
   "source": [
    "language = 'Python'                    # '='  : To assign Values\n",
    "\n",
    "if language == 'Python':              # '==' : To Check Equality\n",
    "    print('Conditional Was True')\n",
    "    "
   ]
  },
  {
   "cell_type": "code",
   "execution_count": 5,
   "metadata": {},
   "outputs": [
    {
     "name": "stdout",
     "output_type": "stream",
     "text": [
      "Language Is Python\n"
     ]
    }
   ],
   "source": [
    "language = 'Python'  \n",
    "if language == 'Python':  \n",
    "    print('Language Is Python')\n",
    "else:\n",
    "    print('No Match')"
   ]
  },
  {
   "cell_type": "code",
   "execution_count": 6,
   "metadata": {},
   "outputs": [
    {
     "name": "stdout",
     "output_type": "stream",
     "text": [
      "No Match\n"
     ]
    }
   ],
   "source": [
    "language = 'Java'  \n",
    "if language == 'Python':  \n",
    "    print('Language Is Python')\n",
    "else:\n",
    "    print('No Match')"
   ]
  },
  {
   "cell_type": "code",
   "execution_count": 10,
   "metadata": {},
   "outputs": [
    {
     "name": "stdout",
     "output_type": "stream",
     "text": [
      "Language Is Python\n"
     ]
    }
   ],
   "source": [
    "#elif / or switch case example in Python\n",
    "language = 'Python'  \n",
    "if language == 'Python':  \n",
    "    print('Language Is Python')\n",
    "elif language == 'Java':\n",
    "    print('Language is Java')\n",
    "elif language == 'JavaScript':\n",
    "    print('Language is JavaScript')\n",
    "else:\n",
    "    print('No Match')"
   ]
  },
  {
   "cell_type": "code",
   "execution_count": 12,
   "metadata": {},
   "outputs": [
    {
     "name": "stdout",
     "output_type": "stream",
     "text": [
      "Admin Page\n"
     ]
    }
   ],
   "source": [
    "# AND   , OR   , NOT \n",
    "user = 'Admin'\n",
    "logged_in = 'True'\n",
    "\n",
    "if user == 'Admin' and logged_in:\n",
    "    print('Admin Page')\n",
    "else:\n",
    "    print('Bad Creds')"
   ]
  },
  {
   "cell_type": "code",
   "execution_count": 15,
   "metadata": {},
   "outputs": [
    {
     "name": "stdout",
     "output_type": "stream",
     "text": [
      "True\n",
      "1887575989832\n",
      "1887575989384\n",
      "False\n"
     ]
    }
   ],
   "source": [
    "# '=='   vs 'is'\n",
    "#built in ID function\n",
    "\n",
    "a = [1,2,3]\n",
    "b = [1,2,3]\n",
    "\n",
    "print (a == b)\n",
    "\n",
    "print(id(a))\n",
    "print(id(b))\n",
    "\n",
    "\n",
    "print(a is b)\n",
    "#False because both ID are different"
   ]
  },
  {
   "cell_type": "code",
   "execution_count": 16,
   "metadata": {},
   "outputs": [
    {
     "name": "stdout",
     "output_type": "stream",
     "text": [
      "True\n",
      "1887575989320\n",
      "1887575989320\n",
      "True\n"
     ]
    }
   ],
   "source": [
    "\n",
    "a = [1,2,3]\n",
    "b = a\n",
    "\n",
    "print (a == b)\n",
    "\n",
    "print(id(a))\n",
    "print(id(b))\n",
    "\n",
    "#both ID would be same\n",
    "print(a is b)"
   ]
  },
  {
   "cell_type": "code",
   "execution_count": null,
   "metadata": {},
   "outputs": [],
   "source": [
    "# False Values:\n",
    "    # False\n",
    "    # None\n",
    "    # Zero of any numeric type\n",
    "    # Any empty sequence. For example, '', (), [].\n",
    "    # Any empty mapping. For example, {}.\n",
    "\n",
    "condition = False\n",
    "\n",
    "if condition:\n",
    "    print('Evaluated to True')\n",
    "else:\n",
    "    print('Evaluated to False')"
   ]
  }
 ],
 "metadata": {
  "kernelspec": {
   "display_name": "Python 3",
   "language": "python",
   "name": "python3"
  },
  "language_info": {
   "codemirror_mode": {
    "name": "ipython",
    "version": 3
   },
   "file_extension": ".py",
   "mimetype": "text/x-python",
   "name": "python",
   "nbconvert_exporter": "python",
   "pygments_lexer": "ipython3",
   "version": "3.6.4"
  }
 },
 "nbformat": 4,
 "nbformat_minor": 2
}
