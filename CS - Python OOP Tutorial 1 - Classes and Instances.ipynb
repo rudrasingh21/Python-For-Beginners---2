{
 "cells": [
  {
   "cell_type": "markdown",
   "metadata": {},
   "source": [
    "# Creating Empty Class"
   ]
  },
  {
   "cell_type": "code",
   "execution_count": 2,
   "metadata": {},
   "outputs": [],
   "source": [
    "#A simple class with no attribute or Methods:-\n",
    "\n",
    "class Employee:\n",
    "    pass"
   ]
  },
  {
   "cell_type": "code",
   "execution_count": 3,
   "metadata": {},
   "outputs": [],
   "source": [
    "# Instance Of a class:- \n",
    "\n",
    "# Each Employee we create from class Employee , will be an Instance Of class\n",
    "\n",
    "emp_1 = Employee()\n",
    "emp_2 = Employee()"
   ]
  },
  {
   "cell_type": "code",
   "execution_count": 4,
   "metadata": {},
   "outputs": [
    {
     "name": "stdout",
     "output_type": "stream",
     "text": [
      "<__main__.Employee object at 0x0000017E76AB1470>\n",
      "<__main__.Employee object at 0x0000017E76AB1438>\n"
     ]
    }
   ],
   "source": [
    "print(emp_1)\n",
    "print(emp_2)"
   ]
  },
  {
   "cell_type": "code",
   "execution_count": 5,
   "metadata": {},
   "outputs": [],
   "source": [
    "#NOTE:- Above , both are Employee Objects and both are Unique, \n",
    "# or in different Memory."
   ]
  },
  {
   "cell_type": "markdown",
   "metadata": {},
   "source": [
    "# Instance Variable:-"
   ]
  },
  {
   "cell_type": "code",
   "execution_count": 6,
   "metadata": {},
   "outputs": [],
   "source": [
    "# Contains data that is unique to each Instance"
   ]
  },
  {
   "cell_type": "code",
   "execution_count": 7,
   "metadata": {},
   "outputs": [],
   "source": [
    "emp_1.first = 'Corey'\n",
    "emp_1.last = 'Schafer'\n",
    "emp_1.email = 'Corey.Schafer@gmail.com'\n",
    "emp_1.pay = 5000\n",
    "\n",
    "emp_2.first = 'Test'\n",
    "emp_2.last = 'User'\n",
    "emp_2.email = 'Test.User@gmail.com'\n",
    "emp_2.pay = 1000\n",
    "\n",
    "# We don't get much benefit of classes if we did it in this way"
   ]
  },
  {
   "cell_type": "code",
   "execution_count": 8,
   "metadata": {},
   "outputs": [
    {
     "name": "stdout",
     "output_type": "stream",
     "text": [
      "Corey.Schafer@gmail.com\n",
      "Test.User@gmail.com\n"
     ]
    }
   ],
   "source": [
    "print(emp_1.email)\n",
    "print(emp_2.email)"
   ]
  },
  {
   "cell_type": "raw",
   "metadata": {},
   "source": [
    "NOTE:- We need to set a lot of variable and data for each employee, So we can use it in class"
   ]
  },
  {
   "cell_type": "code",
   "execution_count": 9,
   "metadata": {},
   "outputs": [
    {
     "name": "stdout",
     "output_type": "stream",
     "text": [
      "Rudra.Singh@gmail.com\n",
      "Seema.Singh@gmail.com\n"
     ]
    }
   ],
   "source": [
    "class Employee1:\n",
    "    def __init__(self,first,last,pay):\n",
    "        self.fname = first\n",
    "        self.lname = last\n",
    "        self.payment = pay\n",
    "        self.email = first + '.' + last + '@gmail.com'\n",
    "        \n",
    "emp_1 = Employee1('Rudra','Singh',500)\n",
    "emp_2 = Employee1('Seema','Singh',600)\n",
    "\n",
    "print(emp_1.email)\n",
    "print(emp_2.email)"
   ]
  },
  {
   "cell_type": "markdown",
   "metadata": {},
   "source": [
    "# Adding METHOD to Class:-"
   ]
  },
  {
   "cell_type": "markdown",
   "metadata": {},
   "source": [
    "First do it without using method in class:-"
   ]
  },
  {
   "cell_type": "code",
   "execution_count": 18,
   "metadata": {},
   "outputs": [
    {
     "name": "stdout",
     "output_type": "stream",
     "text": [
      "Rudra Singh\n",
      "Seema Singh\n"
     ]
    }
   ],
   "source": [
    "print('{} {}'.format(emp_1.fname, emp_2.lname))\n",
    "\n",
    "#Another code if we want to print name of emp 3\n",
    "\n",
    "print('{} {}'.format(emp_2.fname, emp_2.lname))"
   ]
  },
  {
   "cell_type": "markdown",
   "metadata": {},
   "source": [
    "NOTE:- We need to print manually every time when we want to print"
   ]
  },
  {
   "cell_type": "markdown",
   "metadata": {},
   "source": [
    "Using Method in the class:-"
   ]
  },
  {
   "cell_type": "code",
   "execution_count": 17,
   "metadata": {},
   "outputs": [
    {
     "name": "stdout",
     "output_type": "stream",
     "text": [
      "Rudra Singh\n",
      "Seema Singh\n"
     ]
    }
   ],
   "source": [
    "class Employee2:\n",
    "    def __init__(self,first,last,pay):\n",
    "        self.fname = first\n",
    "        self.lname = last\n",
    "        self.payment = pay\n",
    "        self.email = first + '.' + last + '@gmail.com'\n",
    "        \n",
    "    def fullname(self):\n",
    "        return '{} {}'.format(self.fname, self.lname)\n",
    "        \n",
    "emp_1 = Employee2('Rudra','Singh',500)\n",
    "emp_2 = Employee2('Seema','Singh',600)\n",
    "\n",
    "print(emp_1.fullname())\n",
    "\n",
    "#Emp_2 full name:-\n",
    "\n",
    "print(emp_2.fullname())"
   ]
  },
  {
   "cell_type": "markdown",
   "metadata": {},
   "source": [
    "Call it using Class:-"
   ]
  },
  {
   "cell_type": "code",
   "execution_count": 20,
   "metadata": {},
   "outputs": [
    {
     "data": {
      "text/plain": [
       "'Rudra Singh'"
      ]
     },
     "execution_count": 20,
     "metadata": {},
     "output_type": "execute_result"
    }
   ],
   "source": [
    "Employee2.fullname(emp_1)"
   ]
  },
  {
   "cell_type": "code",
   "execution_count": 21,
   "metadata": {},
   "outputs": [
    {
     "data": {
      "text/plain": [
       "'Seema Singh'"
      ]
     },
     "execution_count": 21,
     "metadata": {},
     "output_type": "execute_result"
    }
   ],
   "source": [
    "Employee2.fullname(emp_2)"
   ]
  },
  {
   "cell_type": "code",
   "execution_count": null,
   "metadata": {},
   "outputs": [],
   "source": []
  }
 ],
 "metadata": {
  "kernelspec": {
   "display_name": "Python 3",
   "language": "python",
   "name": "python3"
  },
  "language_info": {
   "codemirror_mode": {
    "name": "ipython",
    "version": 3
   },
   "file_extension": ".py",
   "mimetype": "text/x-python",
   "name": "python",
   "nbconvert_exporter": "python",
   "pygments_lexer": "ipython3",
   "version": "3.6.4"
  }
 },
 "nbformat": 4,
 "nbformat_minor": 2
}
