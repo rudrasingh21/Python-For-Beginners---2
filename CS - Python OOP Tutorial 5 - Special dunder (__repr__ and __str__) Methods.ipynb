{
 "cells": [
  {
   "cell_type": "markdown",
   "metadata": {},
   "source": [
    "Adding two numbers:- "
   ]
  },
  {
   "cell_type": "code",
   "execution_count": 4,
   "metadata": {},
   "outputs": [
    {
     "name": "stdout",
     "output_type": "stream",
     "text": [
      "2\n"
     ]
    }
   ],
   "source": [
    "print(1 + 1)"
   ]
  },
  {
   "cell_type": "markdown",
   "metadata": {},
   "source": [
    "Adding two Strings:-"
   ]
  },
  {
   "cell_type": "code",
   "execution_count": 6,
   "metadata": {},
   "outputs": [
    {
     "name": "stdout",
     "output_type": "stream",
     "text": [
      "ab\n"
     ]
    }
   ],
   "source": [
    "print('a'+'b')"
   ]
  },
  {
   "cell_type": "markdown",
   "metadata": {},
   "source": [
    "NOTE:- We can see both addition are different"
   ]
  },
  {
   "cell_type": "code",
   "execution_count": 18,
   "metadata": {},
   "outputs": [
    {
     "name": "stdout",
     "output_type": "stream",
     "text": [
      "<__main__.Employee object at 0x0000020DB2883BE0>\n"
     ]
    }
   ],
   "source": [
    "class Employee:\n",
    "    \n",
    "    #Class Variable\n",
    "    \n",
    "    raise_amount = 1.04    #4 % raise in salary\n",
    "    \n",
    "    def __init__(self,first,last,pay):\n",
    "        self.fname = first\n",
    "        self.lname = last\n",
    "        self.payment = pay\n",
    "        self.email = first + '.' + last + '@gmail.com'\n",
    "        \n",
    "    def fullname(self):\n",
    "        return '{} {}'.format(self.fname, self.lname)\n",
    "    \n",
    "    def apply_raise(self):\n",
    "        self.payment = int(self.payment * Employee.raise_amount)   #also can be used like self.raise_amount\n",
    "\n",
    "\n",
    "\n",
    "emp_1 = Employee('Rudra','Singh',500)\n",
    "\n",
    "emp_2 = Employee('Seema','Singh',600)\n",
    "\n",
    "print(emp_1)\n",
    "\n",
    "# here we can see below given output i.e. object of emp_1 when we print it.\n"
   ]
  },
  {
   "cell_type": "markdown",
   "metadata": {},
   "source": [
    "# Using __repr__ :-"
   ]
  },
  {
   "cell_type": "code",
   "execution_count": 30,
   "metadata": {},
   "outputs": [
    {
     "name": "stdout",
     "output_type": "stream",
     "text": [
      "Employee('Rudra', 'Singh', 500)\n",
      "Employee('Seema', 'Singh', 600)\n"
     ]
    }
   ],
   "source": [
    "class Employee:\n",
    "    \n",
    "    #Class Variable\n",
    "    \n",
    "    raise_amount = 1.04    #4 % raise in salary\n",
    "    \n",
    "    def __init__(self,first,last,pay):\n",
    "        self.fname = first\n",
    "        self.lname = last\n",
    "        self.payment = pay\n",
    "        self.email = first + '.' + last + '@gmail.com'\n",
    "        \n",
    "    def fullname(self):\n",
    "        return '{} {}'.format(self.fname, self.lname)\n",
    "    \n",
    "    def apply_raise(self):\n",
    "        self.payment = int(self.payment * Employee.raise_amount)   #also can be used like self.raise_amount\n",
    "\n",
    "    def __repr__(self):\n",
    "        return \"Employee('{}', '{}', {})\".format(self.fname,self.lname,self.payment)\n",
    "    \n",
    "    #def __str__(self):\n",
    "     #   pass\n",
    "\n",
    "emp_1 = Employee('Rudra','Singh',500)\n",
    "\n",
    "emp_2 = Employee('Seema','Singh',600)\n",
    "\n",
    "print(emp_1)\n",
    "print(emp_2)\n",
    "    \n",
    "# You can see that now because of __repr__ method we can see the result of print(emp_1)\n",
    "# i.e. exact same thing which we declated in emp_1"
   ]
  },
  {
   "cell_type": "markdown",
   "metadata": {},
   "source": [
    "# Using __str__ too in program :-"
   ]
  },
  {
   "cell_type": "code",
   "execution_count": 35,
   "metadata": {},
   "outputs": [
    {
     "name": "stdout",
     "output_type": "stream",
     "text": [
      "Rudra Singh - Rudra.Singh@gmail.com\n",
      "Seema Singh - Seema.Singh@gmail.com\n",
      "\n",
      "\n",
      "Employee('Rudra', 'Singh', 500)\n",
      "Rudra Singh - Rudra.Singh@gmail.com\n"
     ]
    }
   ],
   "source": [
    "class Employee:\n",
    "    \n",
    "    #Class Variable\n",
    "    \n",
    "    raise_amount = 1.04    #4 % raise in salary\n",
    "    \n",
    "    def __init__(self,first,last,pay):\n",
    "        self.fname = first\n",
    "        self.lname = last\n",
    "        self.payment = pay\n",
    "        self.email = first + '.' + last + '@gmail.com'\n",
    "        \n",
    "    def fullname(self):\n",
    "        return '{} {}'.format(self.fname, self.lname)\n",
    "    \n",
    "    def apply_raise(self):\n",
    "        self.payment = int(self.payment * Employee.raise_amount)   #also can be used like self.raise_amount\n",
    "\n",
    "    def __repr__(self):\n",
    "        return \"Employee('{}', '{}', {})\".format(self.fname,self.lname,self.payment)\n",
    "    \n",
    "    def __str__(self):\n",
    "        return '{} - {}'.format(self.fullname(),self.email)\n",
    "\n",
    "emp_1 = Employee('Rudra','Singh',500)\n",
    "\n",
    "emp_2 = Employee('Seema','Singh',600)\n",
    "\n",
    "print(emp_1)\n",
    "print(emp_2)\n",
    "\n",
    "#NOTE :- now the same print statement print(emp_1) will print __str__ .\n",
    "\n",
    "# Still we can access __repr__ and __str__ seperatly\n",
    "\n",
    "print('\\n')\n",
    "\n",
    "print(repr(emp_1))   # this is directly calling __repr__\n",
    "#print(emp_1.__repr__())\n",
    "\n",
    "print(str(emp_1))    #this is directly calling __str__\n",
    "#print(emp_1.__str__())\n"
   ]
  },
  {
   "cell_type": "markdown",
   "metadata": {},
   "source": [
    "# Other Dunder Objects:--"
   ]
  },
  {
   "cell_type": "raw",
   "metadata": {},
   "source": [
    "__add__ Method:-"
   ]
  },
  {
   "cell_type": "code",
   "execution_count": 41,
   "metadata": {},
   "outputs": [
    {
     "name": "stdout",
     "output_type": "stream",
     "text": [
      "3\n",
      "\n",
      "\n",
      "actually in background :-\n",
      "3\n"
     ]
    }
   ],
   "source": [
    "print(1+2)\n",
    "\n",
    "print('\\n')\n",
    "\n",
    "print('actually in background :-')\n",
    "\n",
    "print(int.__add__(1,2))"
   ]
  },
  {
   "cell_type": "code",
   "execution_count": 40,
   "metadata": {},
   "outputs": [
    {
     "name": "stdout",
     "output_type": "stream",
     "text": [
      "ab\n",
      "\n",
      "\n",
      "actually in background :-\n",
      "ab\n"
     ]
    }
   ],
   "source": [
    "print('a'+'b')\n",
    "\n",
    "print('\\n')\n",
    "\n",
    "print('actually in background :-')\n",
    "\n",
    "print(str.__add__('a','b'))"
   ]
  },
  {
   "cell_type": "code",
   "execution_count": 44,
   "metadata": {},
   "outputs": [
    {
     "name": "stdout",
     "output_type": "stream",
     "text": [
      "1100\n"
     ]
    }
   ],
   "source": [
    "class Employee:\n",
    "    \n",
    "    #Class Variable\n",
    "    \n",
    "    raise_amount = 1.04    #4 % raise in salary\n",
    "    \n",
    "    def __init__(self,first,last,pay):\n",
    "        self.fname = first\n",
    "        self.lname = last\n",
    "        self.payment = pay\n",
    "        self.email = first + '.' + last + '@gmail.com'\n",
    "        \n",
    "    def fullname(self):\n",
    "        return '{} {}'.format(self.fname, self.lname)\n",
    "    \n",
    "    def apply_raise(self):\n",
    "        self.payment = int(self.payment * Employee.raise_amount)   #also can be used like self.raise_amount\n",
    "\n",
    "    def __repr__(self):\n",
    "        return \"Employee('{}', '{}', {})\".format(self.fname,self.lname,self.payment)\n",
    "    \n",
    "    def __str__(self):\n",
    "        return '{} - {}'.format(self.fullname(),self.email)\n",
    "    \n",
    "    def __add__(self, other):       #This tells how you want to add employees together\n",
    "        return self.payment + other.payment\n",
    "\n",
    "emp_1 = Employee('Rudra','Singh',500)\n",
    "\n",
    "emp_2 = Employee('Seema','Singh',600)\n",
    "\n",
    "print(emp_1 + emp_2)\n",
    "\n",
    "#NOTE:- Using this we are only getting addition of Payment \n",
    "\n",
    "# without __add__ method , it will through error"
   ]
  },
  {
   "cell_type": "raw",
   "metadata": {},
   "source": [
    "__len__ Method:-"
   ]
  },
  {
   "cell_type": "code",
   "execution_count": 46,
   "metadata": {},
   "outputs": [
    {
     "name": "stdout",
     "output_type": "stream",
     "text": [
      "4\n",
      "\n",
      "\n",
      "actually in background :-\n",
      "4\n"
     ]
    }
   ],
   "source": [
    "print(len('test'))\n",
    "\n",
    "print('\\n')\n",
    "\n",
    "print('actually in background :-')\n",
    "\n",
    "print('test'.__len__())"
   ]
  },
  {
   "cell_type": "code",
   "execution_count": 48,
   "metadata": {},
   "outputs": [
    {
     "name": "stdout",
     "output_type": "stream",
     "text": [
      "19\n",
      "11\n"
     ]
    }
   ],
   "source": [
    "class Employee:\n",
    "    \n",
    "    #Class Variable\n",
    "    \n",
    "    raise_amount = 1.04    #4 % raise in salary\n",
    "    \n",
    "    def __init__(self,first,last,pay):\n",
    "        self.fname = first\n",
    "        self.lname = last\n",
    "        self.payment = pay\n",
    "        self.email = first + '.' + last + '@gmail.com'\n",
    "        \n",
    "    def fullname(self):\n",
    "        return '{} {}'.format(self.fname, self.lname)\n",
    "    \n",
    "    def __len__(self):\n",
    "        return len(self.fullname())\n",
    "    \n",
    "\n",
    "emp_1 = Employee('Rudra vikram ','Singh',500)\n",
    "\n",
    "emp_2 = Employee('Seema','Singh',600)\n",
    "\n",
    "print(len(emp_1))\n",
    "\n",
    "print(len(emp_2))"
   ]
  }
 ],
 "metadata": {
  "kernelspec": {
   "display_name": "Python 3",
   "language": "python",
   "name": "python3"
  },
  "language_info": {
   "codemirror_mode": {
    "name": "ipython",
    "version": 3
   },
   "file_extension": ".py",
   "mimetype": "text/x-python",
   "name": "python",
   "nbconvert_exporter": "python",
   "pygments_lexer": "ipython3",
   "version": "3.6.4"
  }
 },
 "nbformat": 4,
 "nbformat_minor": 2
}
