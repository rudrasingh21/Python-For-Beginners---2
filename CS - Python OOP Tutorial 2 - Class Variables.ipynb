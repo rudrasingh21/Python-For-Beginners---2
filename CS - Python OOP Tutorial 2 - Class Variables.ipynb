{
 "cells": [
  {
   "cell_type": "markdown",
   "metadata": {},
   "source": [
    "Class Variables:- That are shared among all instances of the class."
   ]
  },
  {
   "cell_type": "markdown",
   "metadata": {},
   "source": [
    "It is easy to handle it , if we want to change the value of variable , then we just need to change at single place."
   ]
  },
  {
   "cell_type": "code",
   "execution_count": 22,
   "metadata": {},
   "outputs": [
    {
     "name": "stdout",
     "output_type": "stream",
     "text": [
      "500\n",
      "520\n"
     ]
    }
   ],
   "source": [
    "class Employee3:\n",
    "    \n",
    "    #Class Variable\n",
    "    \n",
    "    raise_amount = 1.04\n",
    "    \n",
    "    def __init__(self,first,last,pay):\n",
    "        self.fname = first\n",
    "        self.lname = last\n",
    "        self.payment = pay\n",
    "        self.email = first + '.' + last + '@gmail.com'\n",
    "        \n",
    "    def fullname(self):\n",
    "        return '{} {}'.format(self.fname, self.lname)\n",
    "    \n",
    "    def apply_raise(self):\n",
    "        self.payment = int(self.payment * Employee3.raise_amount)   #also can be used like self.raise_amount\n",
    "        \n",
    "emp_1 = Employee3('Rudra','Singh',500)\n",
    "emp_2 = Employee3('Seema','Singh',600)\n",
    "\n",
    "print(emp_1.payment)\n",
    "\n",
    "emp_1.apply_raise()\n",
    "\n",
    "print(emp_1.payment)\n"
   ]
  },
  {
   "cell_type": "markdown",
   "metadata": {},
   "source": [
    "We can access Class Variable from class as well from both Instances:-"
   ]
  },
  {
   "cell_type": "code",
   "execution_count": 9,
   "metadata": {},
   "outputs": [
    {
     "name": "stdout",
     "output_type": "stream",
     "text": [
      "1.04\n",
      "1.04\n",
      "1.04\n"
     ]
    }
   ],
   "source": [
    "print(Employee3.raise_amount)\n",
    "\n",
    "print(emp_1.raise_amount)\n",
    "\n",
    "print(emp_2.raise_amount)"
   ]
  },
  {
   "cell_type": "markdown",
   "metadata": {},
   "source": [
    "Printing Name Spaces for better idea:-"
   ]
  },
  {
   "cell_type": "code",
   "execution_count": 10,
   "metadata": {},
   "outputs": [
    {
     "name": "stdout",
     "output_type": "stream",
     "text": [
      "{'fname': 'Rudra', 'lname': 'Singh', 'payment': 520, 'email': 'Rudra.Singh@gmail.com'}\n"
     ]
    }
   ],
   "source": [
    "print(emp_1.__dict__)"
   ]
  },
  {
   "cell_type": "code",
   "execution_count": 11,
   "metadata": {},
   "outputs": [
    {
     "name": "stdout",
     "output_type": "stream",
     "text": [
      "{'__module__': '__main__', 'raise_amount': 1.04, '__init__': <function Employee3.__init__ at 0x0000019B216C5B70>, 'fullname': <function Employee3.fullname at 0x0000019B216CF620>, 'apply_raise': <function Employee3.apply_raise at 0x0000019B216CFD90>, '__dict__': <attribute '__dict__' of 'Employee3' objects>, '__weakref__': <attribute '__weakref__' of 'Employee3' objects>, '__doc__': None}\n"
     ]
    }
   ],
   "source": [
    "print(Employee3.__dict__)"
   ]
  },
  {
   "cell_type": "markdown",
   "metadata": {},
   "source": [
    "As above:- we can see that , Class contain , Class Variables but instances can't"
   ]
  },
  {
   "cell_type": "markdown",
   "metadata": {},
   "source": [
    "# Changing Class Variable Globally:-"
   ]
  },
  {
   "cell_type": "markdown",
   "metadata": {},
   "source": [
    "In Below Example , We can see changes everywherer for all the instances:-"
   ]
  },
  {
   "cell_type": "code",
   "execution_count": 25,
   "metadata": {},
   "outputs": [],
   "source": [
    "Employee3.raise_amount = 1.05"
   ]
  },
  {
   "cell_type": "code",
   "execution_count": 18,
   "metadata": {},
   "outputs": [
    {
     "name": "stdout",
     "output_type": "stream",
     "text": [
      "1.05\n",
      "1.05\n",
      "1.05\n"
     ]
    }
   ],
   "source": [
    "print(Employee3.raise_amount)\n",
    "print(emp_1.raise_amount)\n",
    "print(emp_2.raise_amount)"
   ]
  },
  {
   "cell_type": "markdown",
   "metadata": {},
   "source": [
    "Changing Class Variable for a perticular Instance:-"
   ]
  },
  {
   "cell_type": "code",
   "execution_count": 27,
   "metadata": {},
   "outputs": [],
   "source": [
    "emp_1.raise_amount = 1.09"
   ]
  },
  {
   "cell_type": "code",
   "execution_count": 28,
   "metadata": {},
   "outputs": [
    {
     "name": "stdout",
     "output_type": "stream",
     "text": [
      "1.05\n",
      "1.09\n",
      "1.05\n"
     ]
    }
   ],
   "source": [
    "print(Employee3.raise_amount)\n",
    "print(emp_1.raise_amount)\n",
    "print(emp_2.raise_amount)"
   ]
  },
  {
   "cell_type": "markdown",
   "metadata": {},
   "source": [
    "NOTE:- We can see that, change is only in emp_1.rasie_amount not in class and not in emp2.raise_amount "
   ]
  },
  {
   "cell_type": "markdown",
   "metadata": {},
   "source": [
    "Let's check Name Space:-"
   ]
  },
  {
   "cell_type": "code",
   "execution_count": 29,
   "metadata": {},
   "outputs": [
    {
     "name": "stdout",
     "output_type": "stream",
     "text": [
      "{'fname': 'Rudra', 'lname': 'Singh', 'payment': 520, 'email': 'Rudra.Singh@gmail.com', 'raise_amount': 1.09}\n"
     ]
    }
   ],
   "source": [
    "print(emp_1.__dict__)"
   ]
  },
  {
   "cell_type": "markdown",
   "metadata": {},
   "source": [
    "# Another Example of Class Variable:-"
   ]
  },
  {
   "cell_type": "code",
   "execution_count": 32,
   "metadata": {},
   "outputs": [
    {
     "name": "stdout",
     "output_type": "stream",
     "text": [
      "0\n",
      "2\n"
     ]
    }
   ],
   "source": [
    "class Employee3:\n",
    "    \n",
    "    #Class Variable\n",
    "    \n",
    "    num_of_emp = 0\n",
    "    \n",
    "    raise_amount = 1.04\n",
    "    \n",
    "    def __init__(self,first,last,pay):\n",
    "        self.fname = first\n",
    "        self.lname = last\n",
    "        self.payment = pay\n",
    "        self.email = first + '.' + last + '@gmail.com'\n",
    "        \n",
    "        Employee3.num_of_emp += 1\n",
    "        \n",
    "    def fullname(self):\n",
    "        return '{} {}'.format(self.fname, self.lname)\n",
    "    \n",
    "    def apply_raise(self):\n",
    "        self.payment = int(self.payment * Employee3.raise_amount)   #also can be used like self.raise_amount\n",
    "        \n",
    "\n",
    "print(Employee3.num_of_emp)\n",
    "\n",
    "emp_1 = Employee3('Rudra','Singh',500)\n",
    "emp_2 = Employee3('Seema','Singh',600)\n",
    "\n",
    "print(Employee3.num_of_emp)\n",
    "\n",
    "\n",
    "# In the first result , because we have not instantiated emp_1 and emp_2 so we will get 0 as result.\n",
    "# Because we have instantiated emp_1 and emp_2 so we will get incremented value as 2"
   ]
  }
 ],
 "metadata": {
  "kernelspec": {
   "display_name": "Python 3",
   "language": "python",
   "name": "python3"
  },
  "language_info": {
   "codemirror_mode": {
    "name": "ipython",
    "version": 3
   },
   "file_extension": ".py",
   "mimetype": "text/x-python",
   "name": "python",
   "nbconvert_exporter": "python",
   "pygments_lexer": "ipython3",
   "version": "3.6.4"
  }
 },
 "nbformat": 4,
 "nbformat_minor": 2
}
